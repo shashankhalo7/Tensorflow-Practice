{
  "nbformat": 4,
  "nbformat_minor": 0,
  "metadata": {
    "colab": {
      "name": "Course 1 - Part 4 - Lesson 2 - Notebook.ipynb",
      "version": "0.3.2",
      "provenance": [],
      "collapsed_sections": []
    },
    "kernelspec": {
      "name": "python2",
      "display_name": "Python 2"
    }
  },
  "cells": [
    {
      "cell_type": "markdown",
      "metadata": {
        "id": "qnyTxjK_GbOD",
        "colab_type": "text"
      },
      "source": [
        "# Beyond Hello World, A Computer Vision Example\n",
        "In the previous exercise you saw how to create a neural network that figured out the problem you were trying to solve. This gave an explicit example of learned behavior. Of course, in that instance, it was a bit of overkill because it would have been easier to write the function Y=2x-1 directly, instead of bothering with using Machine Learning to learn the relationship between X and Y for a fixed set of values, and extending that for all values.\n",
        "\n",
        "But what about a scenario where writing rules like that is much more difficult -- for example a computer vision problem? Let's take a look at a scenario where we can recognize different items of clothing, trained from a dataset containing 10 different types."
      ]
    },
    {
      "cell_type": "markdown",
      "metadata": {
        "id": "H41FYgtlHPjW",
        "colab_type": "text"
      },
      "source": [
        "## Start Coding\n",
        "\n",
        "Let's start with our import of TensorFlow"
      ]
    },
    {
      "cell_type": "code",
      "metadata": {
        "id": "q3KzJyjv3rnA",
        "colab_type": "code",
        "outputId": "f853f8f8-c3aa-43b2-b4de-b6dfbcc8316c",
        "colab": {
          "base_uri": "https://localhost:8080/",
          "height": 34
        }
      },
      "source": [
        "import tensorflow as tf\n",
        "print(tf.__version__)"
      ],
      "execution_count": 1,
      "outputs": [
        {
          "output_type": "stream",
          "text": [
            "1.14.0\n"
          ],
          "name": "stdout"
        }
      ]
    },
    {
      "cell_type": "markdown",
      "metadata": {
        "id": "n_n1U5do3u_F",
        "colab_type": "text"
      },
      "source": [
        "The Fashion MNIST data is available directly in the tf.keras datasets API. You load it like this:"
      ]
    },
    {
      "cell_type": "code",
      "metadata": {
        "id": "PmxkHFpt31bM",
        "colab_type": "code",
        "colab": {}
      },
      "source": [
        "mnist = tf.keras.datasets.fashion_mnist"
      ],
      "execution_count": 0,
      "outputs": []
    },
    {
      "cell_type": "markdown",
      "metadata": {
        "id": "GuoLQQBT4E-_",
        "colab_type": "text"
      },
      "source": [
        "Calling load_data on this object will give you two sets of two lists, these will be the training and testing values for the graphics that contain the clothing items and their labels.\n"
      ]
    },
    {
      "cell_type": "code",
      "metadata": {
        "id": "BTdRgExe4TRB",
        "colab_type": "code",
        "outputId": "99dabdfc-c13a-4048-ac1a-fb4d1edabc06",
        "colab": {
          "base_uri": "https://localhost:8080/",
          "height": 208
        }
      },
      "source": [
        "(training_images, training_labels), (test_images, test_labels) = mnist.load_data()"
      ],
      "execution_count": 3,
      "outputs": [
        {
          "output_type": "stream",
          "text": [
            "Downloading data from https://storage.googleapis.com/tensorflow/tf-keras-datasets/train-labels-idx1-ubyte.gz\n",
            "32768/29515 [=================================] - 0s 0us/step\n",
            "40960/29515 [=========================================] - 0s 0us/step\n",
            "Downloading data from https://storage.googleapis.com/tensorflow/tf-keras-datasets/train-images-idx3-ubyte.gz\n",
            "26427392/26421880 [==============================] - 0s 0us/step\n",
            "26435584/26421880 [==============================] - 0s 0us/step\n",
            "Downloading data from https://storage.googleapis.com/tensorflow/tf-keras-datasets/t10k-labels-idx1-ubyte.gz\n",
            "16384/5148 [===============================================================================================] - 0s 0us/step\n",
            "Downloading data from https://storage.googleapis.com/tensorflow/tf-keras-datasets/t10k-images-idx3-ubyte.gz\n",
            "4423680/4422102 [==============================] - 0s 0us/step\n",
            "4431872/4422102 [==============================] - 0s 0us/step\n"
          ],
          "name": "stdout"
        }
      ]
    },
    {
      "cell_type": "markdown",
      "metadata": {
        "id": "rw395ROx4f5Q",
        "colab_type": "text"
      },
      "source": [
        "What does these values look like? Let's print a training image, and a training label to see...Experiment with different indices in the array. For example, also take a look at index 42...that's a a different boot than the one at index 0\n"
      ]
    },
    {
      "cell_type": "code",
      "metadata": {
        "id": "FPc9d3gJ3jWF",
        "colab_type": "code",
        "outputId": "c58f5972-d48d-43d5-878d-ce74f2094db0",
        "colab": {
          "base_uri": "https://localhost:8080/",
          "height": 1000
        }
      },
      "source": [
        "import matplotlib.pyplot as plt\n",
        "plt.imshow(training_images[100])\n",
        "print(training_labels[100])\n",
        "print(training_images[100])"
      ],
      "execution_count": 4,
      "outputs": [
        {
          "output_type": "stream",
          "text": [
            "8\n",
            "[[  0   0   0   0   0   0   0   0   0   1   0   0  18 107 119 103   9   0\n",
            "    0   0   0   0   0   0   0   0   0   0]\n",
            " [  0   0   0   0   0   0   0   0   0   0   0  99 155 113  61 118 173 117\n",
            "    0   0   3   0   0   0   0   0   0   0]\n",
            " [  0   0   0   0   0   0   0   0   1   0 110 136   0   0   0   0   0 167\n",
            "  159   0   0   2   0   0   0   0   0   0]\n",
            " [  0   0   0   0   0   1   0   6   0  72 147   0   0   5   0   2   0   0\n",
            "  174 118   0   5   0   0   0   0   0   0]\n",
            " [  0   0   0   0   0   1   5   0   0 174   4   0   4   0   0   0   0   0\n",
            "    0 204  44   0   4   0   0   0   0   0]\n",
            " [  0   0   0   0   0   0   8   0 125 128   0   9   0   0   0   0   0   2\n",
            "    0 107 152   0   6   0   0   0   0   0]\n",
            " [  0   0   0   0   0   0   0   0 184   9   0   4   0   0   0   0   0   2\n",
            "    0   0 190   0   0   2   0   0   0   0]\n",
            " [  0   0   0   1   0   2   0  73 158   0   0   0   0   1   0   0   0   0\n",
            "    4   0 157  79   0   3   1   0   0   0]\n",
            " [  0   0   2   5   1   0   0 157  98   0   2   0   0   1   0   0   0   0\n",
            "    5   0 121 145   0   0   0   0   0   0]\n",
            " [  0   0   0   0   0   0   0 231  84   0   2   1   1   0   0   0   0   0\n",
            "    1   0  92 223  16   0   7   4   1   0]\n",
            " [  0   0   0   0   0   0  38 183  81   0   0   0   2   2   1   2   1   0\n",
            "    1   0 120 226  57   0   0   0   0   0]\n",
            " [  0   0 173 216 193 213 183 164 167  98  16   0   0   0   0   0   0   0\n",
            "    0   0 107 141 111  91  90 108  50   0]\n",
            " [  0   0 185 221 217 210 202 222 200 206 202 204 109  27  12  17  61 136\n",
            "  180 221 202 225 208 214 223 240 162   0]\n",
            " [  0   0 183 220 205 200 193 184 189 182 173 194 215 216 205 207 207 195\n",
            "  185 194 194 203 212 183 193 211 153   0]\n",
            " [  0   0 190 233 203 206 214 216 195 183 176 159 175 189 202 195 186 186\n",
            "  182 186 195 209 235 203 202 215 136   0]\n",
            " [  0   0 180 228 201 202 188 183 178 192 186 181 181 177 204 217 175 179\n",
            "  184 176 166 169 175 185 152 203 107   0]\n",
            " [  0   0 167 235 200 207 207 209 207 203 198 189 182 178 186 189 178 192\n",
            "  197 195 192 185 184 205 187 255  61   0]\n",
            " [  0   0 152 250 208 214 209 202 200 202 205 204 200 192 198 204 195 205\n",
            "  206 198 199 203 214 207 179 249  55   0]\n",
            " [  0   0 126 255 211 215 210 206 203 203 203 206 204 199 206 207 200 206\n",
            "  201 199 202 208 215 195 174 211  15   0]\n",
            " [  0   0 107 255 212 211 210 211 208 206 206 207 208 208 217 214 205 206\n",
            "  204 208 211 211 220 197 182 225   0   0]\n",
            " [  0   0  63 232 211 216 212 214 212 212 214 212 211 212 223 219 210 214\n",
            "  213 212 211 209 217 208 168 190   0   0]\n",
            " [  0   0  14 255 218 221 215 218 218 217 215 213 211 215 228 220 216 222\n",
            "  217 217 216 218 212 213 189 143   0   0]\n",
            " [  0   0   0 230 227 214 217 218 216 217 217 214 216 222 226 218 218 220\n",
            "  219 218 217 218 217 215 216 113   0   0]\n",
            " [  0   0   0 177 233 216 223 222 213 213 215 212 220 226 221 220 221 218\n",
            "  222 220 220 221 217 212 219  52   0   0]\n",
            " [  0   0   0  10 223 222 220 211 213 215 220 222 226 226 221 223 222 222\n",
            "  221 218 220 219 220 223 174   0   0   0]\n",
            " [  0   0   0   0 126 241 208 210 214 214 216 216 220 220 214 213 212 212\n",
            "  210 215 217 218 215 236  42   0   1   0]\n",
            " [  0   0   0   0   0 188 237 230 233 255 255 255 255 255 255 255 255 255\n",
            "  255 255 231 229 239 161   0   0   0   0]\n",
            " [  0   0   0   0   0   0  63  95 108 105 100 103 104 105 102 100  98  97\n",
            "   96  90  80  83  60   0   0   0   0   0]]\n"
          ],
          "name": "stdout"
        },
        {
          "output_type": "display_data",
          "data": {
            "image/png": "[encoded data removed]",
            "text/plain": [
              "<Figure size 432x288 with 1 Axes>"
            ]
          },
          "metadata": {
            "tags": []
          }
        }
      ]
    },
    {
      "cell_type": "markdown",
      "metadata": {
        "id": "3cbrdH225_nH",
        "colab_type": "text"
      },
      "source": [
        "You'll notice that all of the values in the number are between 0 and 255. If we are training a neural network, for various reasons it's easier if we treat all values as between 0 and 1, a process called '**normalizing**'...and fortunately in Python it's easy to normalize a list like this without looping. You do it like this:"
      ]
    },
    {
      "cell_type": "code",
      "metadata": {
        "id": "kRH19pWs6ZDn",
        "colab_type": "code",
        "colab": {}
      },
      "source": [
        "training_images  = training_images / 255.0\n",
        "test_images = test_images / 255.0"
      ],
      "execution_count": 0,
      "outputs": []
    },
    {
      "cell_type": "markdown",
      "metadata": {
        "id": "3DkO0As46lRn",
        "colab_type": "text"
      },
      "source": [
        "Now you might be wondering why there are 2 sets...training and testing -- remember we spoke about this in the intro? The idea is to have 1 set of data for training, and then another set of data...that the model hasn't yet seen...to see how good it would be at classifying values. After all, when you're done, you're going to want to try it out with data that it hadn't previously seen!"
      ]
    },
    {
      "cell_type": "markdown",
      "metadata": {
        "id": "dIn7S9gf62ie",
        "colab_type": "text"
      },
      "source": [
        "Let's now design the model. There's quite a few new concepts here, but don't worry, you'll get the hang of them. "
      ]
    },
    {
      "cell_type": "code",
      "metadata": {
        "id": "7mAyndG3kVlK",
        "colab_type": "code",
        "colab": {
          "base_uri": "https://localhost:8080/",
          "height": 106
        },
        "outputId": "3eed009a-6ee3-4a0a-b15c-d7ca84376e86"
      },
      "source": [
        "model = tf.keras.models.Sequential([tf.keras.layers.Flatten(input_shape=(28,28)), \n",
        "                                    tf.keras.layers.Dense(128, activation=tf.nn.relu), \n",
        "                                    tf.keras.layers.Dense(10, activation=tf.nn.softmax)])"
      ],
      "execution_count": 6,
      "outputs": [
        {
          "output_type": "stream",
          "text": [
            "WARNING: Logging before flag parsing goes to stderr.\n",
            "W0703 06:18:34.155895 139848942385024 deprecation.py:506] From /usr/local/lib/python2.7/dist-packages/tensorflow/python/ops/init_ops.py:1251: calling __init__ (from tensorflow.python.ops.init_ops) with dtype is deprecated and will be removed in a future version.\n",
            "Instructions for updating:\n",
            "Call initializer instance with the dtype argument instead of passing it to the constructor\n"
          ],
          "name": "stderr"
        }
      ]
    },
    {
      "cell_type": "markdown",
      "metadata": {
        "id": "-lUcWaiX7MFj",
        "colab_type": "text"
      },
      "source": [
        "**Sequential**: That defines a SEQUENCE of layers in the neural network\n",
        "\n",
        "**Flatten**: Remember earlier where our images were a square, when you printed them out? Flatten just takes that square and turns it into a 1 dimensional set.\n",
        "\n",
        "**Dense**: Adds a layer of neurons\n",
        "\n",
        "Each layer of neurons need an **activation function** to tell them what to do. There's lots of options, but just use these for now. \n",
        "\n",
        "**Relu** effectively means \"If X>0 return X, else return 0\" -- so what it does it it only passes values 0 or greater to the next layer in the network.\n",
        "\n",
        "**Softmax** takes a set of values, and effectively picks the biggest one, so, for example, if the output of the last layer looks like [0.1, 0.1, 0.05, 0.1, 9.5, 0.1, 0.05, 0.05, 0.05], it saves you from fishing through it looking for the biggest value, and turns it into [0,0,0,0,1,0,0,0,0] -- The goal is to save a lot of coding!\n"
      ]
    },
    {
      "cell_type": "markdown",
      "metadata": {
        "id": "c8vbMCqb9Mh6",
        "colab_type": "text"
      },
      "source": [
        "The next thing to do, now the model is defined, is to actually build it. You do this by compiling it with an optimizer and loss function as before -- and then you train it by calling **model.fit ** asking it to fit your training data to your training labels -- i.e. have it figure out the relationship between the training data and its actual labels, so in future if you have data that looks like the training data, then it can make a prediction for what that data would look like. "
      ]
    },
    {
      "cell_type": "code",
      "metadata": {
        "id": "BLMdl9aP8nQ0",
        "colab_type": "code",
        "outputId": "11829600-b596-4067-ea1e-8a39b9bcf574",
        "colab": {
          "base_uri": "https://localhost:8080/",
          "height": 208
        }
      },
      "source": [
        "model.compile(optimizer = tf.train.AdamOptimizer(),\n",
        "              loss = 'sparse_categorical_crossentropy',\n",
        "              metrics=['accuracy'])\n",
        "\n",
        "model.fit(training_images, training_labels, epochs=5)"
      ],
      "execution_count": 7,
      "outputs": [
        {
          "output_type": "stream",
          "text": [
            "Epoch 1/5\n",
            "60000/60000 [==============================] - 4s 70us/sample - loss: 0.4974 - acc: 0.8263\n",
            "Epoch 2/5\n",
            "60000/60000 [==============================] - 4s 62us/sample - loss: 0.3731 - acc: 0.8648\n",
            "Epoch 3/5\n",
            "60000/60000 [==============================] - 4s 64us/sample - loss: 0.3340 - acc: 0.8784\n",
            "Epoch 4/5\n",
            "60000/60000 [==============================] - 4s 65us/sample - loss: 0.3108 - acc: 0.8857\n",
            "Epoch 5/5\n",
            "60000/60000 [==============================] - 4s 66us/sample - loss: 0.2924 - acc: 0.8915\n"
          ],
          "name": "stdout"
        },
        {
          "output_type": "execute_result",
          "data": {
            "text/plain": [
              "<tensorflow.python.keras.callbacks.History at 0x7f31003d52d0>"
            ]
          },
          "metadata": {
            "tags": []
          },
          "execution_count": 7
        }
      ]
    },
    {
      "cell_type": "markdown",
      "metadata": {
        "id": "-JJMsvSB-1UY",
        "colab_type": "text"
      },
      "source": [
        "Once it's done training -- you should see an accuracy value at the end of the final epoch. It might look something like 0.9098. This tells you that your neural network is about 91% accurate in classifying the training data. I.E., it figured out a pattern match between the image and the labels that worked 91% of the time. Not great, but not bad considering it was only trained for 5 epochs and done quite quickly.\n",
        "\n",
        "But how would it work with unseen data? That's why we have the test images. We can call model.evaluate, and pass in the two sets, and it will report back the loss for each. Let's give it a try:"
      ]
    },
    {
      "cell_type": "code",
      "metadata": {
        "id": "WzlqsEzX9s5P",
        "colab_type": "code",
        "outputId": "1ec4e62a-1eb5-47c5-fd31-8bbc765e0b9c",
        "colab": {
          "base_uri": "https://localhost:8080/",
          "height": 52
        }
      },
      "source": [
        "model.evaluate(test_images, test_labels)"
      ],
      "execution_count": 8,
      "outputs": [
        {
          "output_type": "stream",
          "text": [
            "10000/10000 [==============================] - 0s 33us/sample - loss: 0.3643 - acc: 0.8655\n"
          ],
          "name": "stdout"
        },
        {
          "output_type": "execute_result",
          "data": {
            "text/plain": [
              "[0.3642774339914322, 0.8655]"
            ]
          },
          "metadata": {
            "tags": []
          },
          "execution_count": 8
        }
      ]
    },
    {
      "cell_type": "markdown",
      "metadata": {
        "id": "6tki-Aro_Uax",
        "colab_type": "text"
      },
      "source": [
        "For me, that returned a accuracy of about .8838, which means it was about 88% accurate. As expected it probably would not do as well with *unseen* data as it did with data it was trained on!  As you go through this course, you'll look at ways to improve this. \n",
        "\n",
        "To explore further, try the below exercises:\n"
      ]
    },
    {
      "cell_type": "markdown",
      "metadata": {
        "id": "htldZNWcIPSN",
        "colab_type": "text"
      },
      "source": [
        "# Exploration Exercises"
      ]
    },
    {
      "cell_type": "markdown",
      "metadata": {
        "id": "rquQqIx4AaGR",
        "colab_type": "text"
      },
      "source": [
        "###Exercise 1:\n",
        "For this first exercise run the below code: It creates a set of classifications for each of the test images, and then prints the first entry in the classifications. The output, after you run it is a list of numbers. Why do you think this is, and what do those numbers represent? "
      ]
    },
    {
      "cell_type": "code",
      "metadata": {
        "id": "RyEIki0z_hAD",
        "colab_type": "code",
        "colab": {
          "base_uri": "https://localhost:8080/",
          "height": 52
        },
        "outputId": "3707f119-9ada-4c26-d34c-825ae2741296"
      },
      "source": [
        "classifications = model.predict(test_images)\n",
        "\n",
        "print(classifications[0])"
      ],
      "execution_count": 9,
      "outputs": [
        {
          "output_type": "stream",
          "text": [
            "[2.1720810e-07 1.9801075e-08 3.3390486e-09 7.8913565e-10 1.3534701e-07\n",
            " 2.5821311e-02 3.5503689e-08 1.4042144e-02 3.3578590e-06 9.6013278e-01]\n"
          ],
          "name": "stdout"
        }
      ]
    },
    {
      "cell_type": "markdown",
      "metadata": {
        "id": "MdzqbQhRArzm",
        "colab_type": "text"
      },
      "source": [
        "Hint: try running print(test_labels[0]) -- and you'll get a 9. Does that help you understand why this list looks the way it does? "
      ]
    },
    {
      "cell_type": "code",
      "metadata": {
        "id": "WnBGOrMiA1n5",
        "colab_type": "code",
        "colab": {
          "base_uri": "https://localhost:8080/",
          "height": 34
        },
        "outputId": "95497501-221f-4c07-8695-9d7ded6280d1"
      },
      "source": [
        "print(test_labels[0])"
      ],
      "execution_count": 10,
      "outputs": [
        {
          "output_type": "stream",
          "text": [
            "9\n"
          ],
          "name": "stdout"
        }
      ]
    },
    {
      "cell_type": "markdown",
      "metadata": {
        "id": "uUs7eqr7uSvs",
        "colab_type": "text"
      },
      "source": [
        "### What does this list represent?\n",
        "\n",
        "\n",
        "1.   It's 10 random meaningless values\n",
        "2.   It's the first 10 classifications that the computer made\n",
        "3.   It's the probability that this item is each of the 10 classes\n",
        "\n"
      ]
    },
    {
      "cell_type": "markdown",
      "metadata": {
        "id": "wAbr92RTA67u",
        "colab_type": "text"
      },
      "source": [
        "####Answer: \n",
        "The correct answer is (3)\n",
        "\n",
        "The output of the model is a list of 10 numbers. These numbers are a probability that the value being classified is the corresponding value, i.e. the first value in the list is the probability that the handwriting is of a '0', the next is a '1' etc. Notice that they are all VERY LOW probabilities.\n",
        "\n",
        "For the 7, the probability was .999+, i.e. the neural network is telling us that it's almost certainly a 7."
      ]
    },
    {
      "cell_type": "markdown",
      "metadata": {
        "id": "CD4kC6TBu-69",
        "colab_type": "text"
      },
      "source": [
        "### How do you know that this list tells you that the item is an ankle boot?\n",
        "\n",
        "\n",
        "1.   There's not enough information to answer that question\n",
        "2.   The 10th element on the list is the biggest, and the ankle boot is labelled 9\n",
        "2.   The ankle boot is label 9, and there are 0->9 elements in the list\n",
        "\n",
        "\n"
      ]
    },
    {
      "cell_type": "markdown",
      "metadata": {
        "id": "I-haLncrva5L",
        "colab_type": "text"
      },
      "source": [
        "####Answer\n",
        "The correct answer is (2). Both the list and the labels are 0 based, so the ankle boot having label 9 means that it is the 10th of the 10 classes. The list having the 10th element being the highest value means that the Neural Network has predicted that the item it is classifying is most likely an ankle boot"
      ]
    },
    {
      "cell_type": "markdown",
      "metadata": {
        "id": "OgQSIfDSOWv6",
        "colab_type": "text"
      },
      "source": [
        "##Exercise 2: \n",
        "Let's now look at the layers in your model. Experiment with different values for the dense layer with 512 neurons. What different results do you get for loss, training time etc? Why do you think that's the case? \n",
        "\n"
      ]
    },
    {
      "cell_type": "code",
      "metadata": {
        "id": "fyL2q5Lzh1-D",
        "colab_type": "code",
        "colab": {
          "base_uri": "https://localhost:8080/",
          "height": 34
        },
        "outputId": "85e7564c-da1e-4a88-bd1c-2dbb4bbba9b8"
      },
      "source": [
        "training_images.shape"
      ],
      "execution_count": 12,
      "outputs": [
        {
          "output_type": "execute_result",
          "data": {
            "text/plain": [
              "(60000, 28, 28)"
            ]
          },
          "metadata": {
            "tags": []
          },
          "execution_count": 12
        }
      ]
    },
    {
      "cell_type": "code",
      "metadata": {
        "id": "GSZSwV5UObQP",
        "colab_type": "code",
        "colab": {
          "base_uri": "https://localhost:8080/",
          "height": 330
        },
        "outputId": "5c3d5b4f-73fc-4e6e-9880-30ee2d93a79e"
      },
      "source": [
        "import tensorflow as tf\n",
        "print(tf.__version__)\n",
        "\n",
        "mnist = tf.keras.datasets.mnist\n",
        "\n",
        "(training_images, training_labels) ,  (test_images, test_labels) = mnist.load_data()\n",
        "\n",
        "training_images = training_images/255.0\n",
        "test_images = test_images/255.0\n",
        "\n",
        "model = tf.keras.models.Sequential([tf.keras.layers.Flatten(input_shape=(training_images.shape[1],training_images.shape[2])),\n",
        "                                    tf.keras.layers.Dense(1024, activation=tf.nn.relu),\n",
        "                                    tf.keras.layers.Dense(10, activation=tf.nn.softmax)])\n",
        "\n",
        "model.compile(optimizer = 'adam',\n",
        "              loss = 'sparse_categorical_crossentropy')\n",
        "\n",
        "model.fit(training_images, training_labels, epochs=5)\n",
        "\n",
        "model.evaluate(test_images, test_labels)\n",
        "\n",
        "classifications = model.predict(test_images)\n",
        "\n",
        "print(classifications[0])\n",
        "print(test_labels[0])"
      ],
      "execution_count": 13,
      "outputs": [
        {
          "output_type": "stream",
          "text": [
            "1.14.0\n",
            "Downloading data from https://storage.googleapis.com/tensorflow/tf-keras-datasets/mnist.npz\n",
            "11493376/11490434 [==============================] - 0s 0us/step\n",
            "11501568/11490434 [==============================] - 0s 0us/step\n",
            "Epoch 1/5\n",
            "60000/60000 [==============================] - 12s 207us/sample - loss: 0.1847\n",
            "Epoch 2/5\n",
            "60000/60000 [==============================] - 12s 203us/sample - loss: 0.0735\n",
            "Epoch 3/5\n",
            "60000/60000 [==============================] - 12s 206us/sample - loss: 0.0492\n",
            "Epoch 4/5\n",
            "60000/60000 [==============================] - 13s 212us/sample - loss: 0.0342\n",
            "Epoch 5/5\n",
            "60000/60000 [==============================] - 12s 206us/sample - loss: 0.0256\n",
            "10000/10000 [==============================] - 1s 82us/sample - loss: 0.0959\n",
            "[3.1931716e-10 1.1805579e-10 1.2194241e-08 7.8734984e-06 1.1920125e-12\n",
            " 6.6233113e-12 1.1874376e-16 9.9999177e-01 3.8737197e-11 3.0711553e-07]\n",
            "7\n"
          ],
          "name": "stdout"
        }
      ]
    },
    {
      "cell_type": "markdown",
      "metadata": {
        "id": "bOOEnHZFv5cS",
        "colab_type": "text"
      },
      "source": [
        "###Question 1. Increase to 1024 Neurons -- What's the impact?\n",
        "\n",
        "1. Training takes longer, but is more accurate\n",
        "2. Training takes longer, but no impact on accuracy\n",
        "3. Training takes the same time, but is more accurate\n"
      ]
    },
    {
      "cell_type": "markdown",
      "metadata": {
        "id": "U73MUP2lwrI2",
        "colab_type": "text"
      },
      "source": [
        "####Answer\n",
        "The correct answer is (1) by adding more Neurons we have to do more calculations, slowing down the process, but in this case they have a good impact -- we do get more accurate. That doesn't mean it's always a case of 'more is better', you can hit the law of diminishing returns very quickly!"
      ]
    },
    {
      "cell_type": "markdown",
      "metadata": {
        "id": "WtWxK16hQxLN",
        "colab_type": "text"
      },
      "source": [
        "##Exercise 3: \n",
        "\n",
        "What would happen if you remove the Flatten() layer. Why do you think that's the case? \n",
        "\n",
        "You get an error about the shape of the data. It may seem vague right now, but it reinforces the rule of thumb that the first layer in your network should be the same shape as your data. Right now our data is 28x28 images, and 28 layers of 28 neurons would be infeasible, so it makes more sense to 'flatten' that 28,28 into a 784x1. Instead of wriitng all the code to handle that ourselves, we add the Flatten() layer at the begining, and when the arrays are loaded into the model later, they'll automatically be flattened for us."
      ]
    },
    {
      "cell_type": "code",
      "metadata": {
        "id": "ExNxCwhcQ18S",
        "colab_type": "code",
        "colab": {
          "base_uri": "https://localhost:8080/",
          "height": 278
        },
        "outputId": "0eeb6a8e-f2d5-4e8e-faf8-0ed5d772a978"
      },
      "source": [
        "import tensorflow as tf\n",
        "print(tf.__version__)\n",
        "\n",
        "mnist = tf.keras.datasets.mnist\n",
        "\n",
        "(training_images, training_labels) ,  (test_images, test_labels) = mnist.load_data()\n",
        "\n",
        "training_images = training_images/255.0\n",
        "test_images = test_images/255.0\n",
        "\n",
        "model = tf.keras.models.Sequential([tf.keras.layers.Flatten(),\n",
        "                                    tf.keras.layers.Dense(64, activation=tf.nn.relu),\n",
        "                                    tf.keras.layers.Dense(10, activation=tf.nn.softmax)])\n",
        "\n",
        "model.compile(optimizer = 'adam',\n",
        "              loss = 'sparse_categorical_crossentropy')\n",
        "\n",
        "model.fit(training_images, training_labels, epochs=5)\n",
        "\n",
        "model.evaluate(test_images, test_labels)\n",
        "\n",
        "classifications = model.predict(test_images)\n",
        "\n",
        "print(classifications[0])\n",
        "print(test_labels[0])"
      ],
      "execution_count": 15,
      "outputs": [
        {
          "output_type": "stream",
          "text": [
            "1.14.0\n",
            "Epoch 1/5\n",
            "60000/60000 [==============================] - 3s 58us/sample - loss: 0.3069\n",
            "Epoch 2/5\n",
            "60000/60000 [==============================] - 3s 56us/sample - loss: 0.1466\n",
            "Epoch 3/5\n",
            "60000/60000 [==============================] - 3s 56us/sample - loss: 0.1067\n",
            "Epoch 4/5\n",
            "60000/60000 [==============================] - 3s 56us/sample - loss: 0.0823\n",
            "Epoch 5/5\n",
            "60000/60000 [==============================] - 4s 58us/sample - loss: 0.0688\n",
            "10000/10000 [==============================] - 0s 36us/sample - loss: 0.0835\n",
            "[3.6704398e-06 2.0205351e-09 3.0455392e-05 6.7097461e-04 4.4025661e-10\n",
            " 1.6851593e-05 7.8704293e-10 9.9915695e-01 5.7991667e-05 6.3158019e-05]\n",
            "7\n"
          ],
          "name": "stdout"
        }
      ]
    },
    {
      "cell_type": "markdown",
      "metadata": {
        "id": "VqoCR-ieSGDg",
        "colab_type": "text"
      },
      "source": [
        "##Exercise 4: \n",
        "\n",
        "Consider the final (output) layers. Why are there 10 of them? What would happen if you had a different amount than 10? For example, try training the network with 5\n",
        "\n",
        "You get an error as soon as it finds an unexpected value. Another rule of thumb -- the number of neurons in the last layer should match the number of classes you are classifying for. In this case it's the digits 0-9, so there are 10 of them, hence you should have 10 neurons in your final layer."
      ]
    },
    {
      "cell_type": "code",
      "metadata": {
        "id": "MMckVntcSPvo",
        "colab_type": "code",
        "colab": {
          "base_uri": "https://localhost:8080/",
          "height": 278
        },
        "outputId": "b8874d09-129f-46a3-c4a9-e4f2b2e1cd35"
      },
      "source": [
        "import tensorflow as tf\n",
        "print(tf.__version__)\n",
        "\n",
        "mnist = tf.keras.datasets.mnist\n",
        "\n",
        "(training_images, training_labels) ,  (test_images, test_labels) = mnist.load_data()\n",
        "\n",
        "training_images = training_images/255.0\n",
        "test_images = test_images/255.0\n",
        "\n",
        "model = tf.keras.models.Sequential([tf.keras.layers.Flatten(),\n",
        "                                    tf.keras.layers.Dense(64, activation=tf.nn.relu),\n",
        "                                    tf.keras.layers.Dense(10, activation=tf.nn.softmax)])\n",
        "\n",
        "model.compile(optimizer = 'adam',\n",
        "              loss = 'sparse_categorical_crossentropy')\n",
        "\n",
        "model.fit(training_images, training_labels, epochs=5)\n",
        "\n",
        "model.evaluate(test_images, test_labels)\n",
        "\n",
        "classifications = model.predict(test_images)\n",
        "\n",
        "print(classifications[0])\n",
        "print(test_labels[0])"
      ],
      "execution_count": 17,
      "outputs": [
        {
          "output_type": "stream",
          "text": [
            "1.14.0\n",
            "Epoch 1/5\n",
            "60000/60000 [==============================] - 4s 59us/sample - loss: 0.2965\n",
            "Epoch 2/5\n",
            "60000/60000 [==============================] - 3s 56us/sample - loss: 0.1420\n",
            "Epoch 3/5\n",
            "60000/60000 [==============================] - 3s 56us/sample - loss: 0.1038\n",
            "Epoch 4/5\n",
            "60000/60000 [==============================] - 3s 57us/sample - loss: 0.0813\n",
            "Epoch 5/5\n",
            "60000/60000 [==============================] - 3s 56us/sample - loss: 0.0673\n",
            "10000/10000 [==============================] - 0s 36us/sample - loss: 0.0927\n",
            "[1.6675056e-06 5.7409707e-08 2.2380662e-05 5.4594019e-04 9.2939129e-12\n",
            " 1.4481117e-06 4.8379952e-13 9.9941397e-01 6.3632933e-06 8.1834505e-06]\n",
            "7\n"
          ],
          "name": "stdout"
        }
      ]
    },
    {
      "cell_type": "markdown",
      "metadata": {
        "id": "-0lF5MuvSuZF",
        "colab_type": "text"
      },
      "source": [
        "##Exercise 5: \n",
        "\n",
        "Consider the effects of additional layers in the network. What will happen if you add another layer between the one with 512 and the final layer with 10. \n",
        "\n",
        "Ans: There isn't a significant impact -- because this is relatively simple data. For far more complex data (including color images to be classified as flowers that you'll see in the next lesson), extra layers are often necessary. "
      ]
    },
    {
      "cell_type": "code",
      "metadata": {
        "id": "b1YPa6UhS8Es",
        "colab_type": "code",
        "colab": {
          "base_uri": "https://localhost:8080/",
          "height": 278
        },
        "outputId": "d7a01b27-87d8-4ed7-94f0-4e4a7aae1f8f"
      },
      "source": [
        "import tensorflow as tf\n",
        "print(tf.__version__)\n",
        "\n",
        "mnist = tf.keras.datasets.mnist\n",
        "\n",
        "(training_images, training_labels) ,  (test_images, test_labels) = mnist.load_data()\n",
        "\n",
        "training_images = training_images/255.0\n",
        "test_images = test_images/255.0\n",
        "\n",
        "model = tf.keras.models.Sequential([tf.keras.layers.Flatten(),\n",
        "                                    tf.keras.layers.Dense(512, activation=tf.nn.relu),\n",
        "                                    tf.keras.layers.Dense(256, activation=tf.nn.relu),\n",
        "                                    tf.keras.layers.Dense(10, activation=tf.nn.softmax)])\n",
        "\n",
        "model.compile(optimizer = 'adam',\n",
        "              loss = 'sparse_categorical_crossentropy')\n",
        "\n",
        "model.fit(training_images, training_labels, epochs=5)\n",
        "\n",
        "model.evaluate(test_images, test_labels)\n",
        "\n",
        "classifications = model.predict(test_images)\n",
        "\n",
        "print(classifications[0])\n",
        "print(test_labels[0])"
      ],
      "execution_count": 20,
      "outputs": [
        {
          "output_type": "stream",
          "text": [
            "1.14.0\n",
            "Epoch 1/5\n",
            "60000/60000 [==============================] - 10s 170us/sample - loss: 0.1847\n",
            "Epoch 2/5\n",
            "60000/60000 [==============================] - 10s 165us/sample - loss: 0.0802\n",
            "Epoch 3/5\n",
            "60000/60000 [==============================] - 10s 165us/sample - loss: 0.0555\n",
            "Epoch 4/5\n",
            "60000/60000 [==============================] - 10s 164us/sample - loss: 0.0406\n",
            "Epoch 5/5\n",
            "60000/60000 [==============================] - 10s 165us/sample - loss: 0.0330\n",
            "10000/10000 [==============================] - 1s 74us/sample - loss: 0.0810\n",
            "[1.7219006e-12 3.8685358e-10 4.8288471e-09 2.3226594e-06 5.5697296e-12\n",
            " 5.1062991e-11 2.2979000e-15 9.9997199e-01 1.1444911e-09 2.5757266e-05]\n",
            "7\n"
          ],
          "name": "stdout"
        }
      ]
    },
    {
      "cell_type": "code",
      "metadata": {
        "id": "sE7PDe6LWAHb",
        "colab_type": "code",
        "colab": {}
      },
      "source": [
        ""
      ],
      "execution_count": 0,
      "outputs": []
    },
    {
      "cell_type": "markdown",
      "metadata": {
        "id": "Bql9fyaNUSFy",
        "colab_type": "text"
      },
      "source": [
        "#Exercise 6: \n",
        "\n",
        "Consider the impact of training for more or less epochs. Why do you think that would be the case? \n",
        "\n",
        "Try 15 epochs -- you'll probably get a model with a much better loss than the one with 5\n",
        "Try 30 epochs -- you might see the loss value stops decreasing, and sometimes increases. This is a side effect of something called 'overfitting' which you can learn about [somewhere] and it's something you need to keep an eye out for when training neural networks. There's no point in wasting your time training if you aren't improving your loss, right! :)"
      ]
    },
    {
      "cell_type": "code",
      "metadata": {
        "id": "uE3esj9BURQe",
        "colab_type": "code",
        "colab": {
          "base_uri": "https://localhost:8080/",
          "height": 1000
        },
        "outputId": "f35331cc-e952-4f63-c32b-c55828ccb1b4"
      },
      "source": [
        "import tensorflow as tf\n",
        "print(tf.__version__)\n",
        "\n",
        "mnist = tf.keras.datasets.mnist\n",
        "\n",
        "(training_images, training_labels) ,  (test_images, test_labels) = mnist.load_data()\n",
        "\n",
        "training_images = training_images/255.0\n",
        "test_images = test_images/255.0\n",
        "\n",
        "model = tf.keras.models.Sequential([tf.keras.layers.Flatten(),\n",
        "                                    tf.keras.layers.Dense(128, activation=tf.nn.relu),\n",
        "                                    tf.keras.layers.Dense(10, activation=tf.nn.softmax)])\n",
        "\n",
        "model.compile(optimizer = 'adam',\n",
        "              loss = 'sparse_categorical_crossentropy')\n",
        "\n",
        "model.fit(training_images, training_labels, epochs=30)\n",
        "\n",
        "model.evaluate(test_images, test_labels)\n",
        "\n",
        "classifications = model.predict(test_images)\n",
        "\n",
        "print(classifications[34])\n",
        "print(test_labels[34])"
      ],
      "execution_count": 22,
      "outputs": [
        {
          "output_type": "stream",
          "text": [
            "1.14.0\n",
            "Epoch 1/30\n",
            "60000/60000 [==============================] - 4s 72us/sample - loss: 0.2567\n",
            "Epoch 2/30\n",
            "60000/60000 [==============================] - 4s 64us/sample - loss: 0.1140\n",
            "Epoch 3/30\n",
            "60000/60000 [==============================] - 4s 70us/sample - loss: 0.0781\n",
            "Epoch 4/30\n",
            "60000/60000 [==============================] - 4s 70us/sample - loss: 0.0578\n",
            "Epoch 5/30\n",
            "60000/60000 [==============================] - 4s 68us/sample - loss: 0.0449\n",
            "Epoch 6/30\n",
            "60000/60000 [==============================] - 4s 65us/sample - loss: 0.0347\n",
            "Epoch 7/30\n",
            "60000/60000 [==============================] - 4s 65us/sample - loss: 0.0281\n",
            "Epoch 8/30\n",
            "60000/60000 [==============================] - 4s 66us/sample - loss: 0.0226\n",
            "Epoch 9/30\n",
            "60000/60000 [==============================] - 4s 65us/sample - loss: 0.0179\n",
            "Epoch 10/30\n",
            "60000/60000 [==============================] - 4s 65us/sample - loss: 0.0154\n",
            "Epoch 11/30\n",
            "60000/60000 [==============================] - 4s 65us/sample - loss: 0.0127\n",
            "Epoch 12/30\n",
            "60000/60000 [==============================] - 4s 65us/sample - loss: 0.0113\n",
            "Epoch 13/30\n",
            "60000/60000 [==============================] - 4s 65us/sample - loss: 0.0091\n",
            "Epoch 14/30\n",
            "60000/60000 [==============================] - 4s 65us/sample - loss: 0.0074\n",
            "Epoch 15/30\n",
            "60000/60000 [==============================] - 4s 65us/sample - loss: 0.0081\n",
            "Epoch 16/30\n",
            "60000/60000 [==============================] - 4s 65us/sample - loss: 0.0053\n",
            "Epoch 17/30\n",
            "60000/60000 [==============================] - 4s 65us/sample - loss: 0.0069\n",
            "Epoch 18/30\n",
            "60000/60000 [==============================] - 4s 64us/sample - loss: 0.0054\n",
            "Epoch 19/30\n",
            "60000/60000 [==============================] - 4s 65us/sample - loss: 0.0059\n",
            "Epoch 20/30\n",
            "60000/60000 [==============================] - 4s 64us/sample - loss: 0.0054\n",
            "Epoch 21/30\n",
            "60000/60000 [==============================] - 4s 68us/sample - loss: 0.0057\n",
            "Epoch 22/30\n",
            "60000/60000 [==============================] - 4s 68us/sample - loss: 0.0047\n",
            "Epoch 23/30\n",
            "60000/60000 [==============================] - 4s 68us/sample - loss: 0.0027\n",
            "Epoch 24/30\n",
            "60000/60000 [==============================] - 4s 68us/sample - loss: 0.0049\n",
            "Epoch 25/30\n",
            "60000/60000 [==============================] - 4s 68us/sample - loss: 0.0032\n",
            "Epoch 26/30\n",
            "60000/60000 [==============================] - 4s 68us/sample - loss: 0.0048\n",
            "Epoch 27/30\n",
            "60000/60000 [==============================] - 4s 68us/sample - loss: 0.0029\n",
            "Epoch 28/30\n",
            "60000/60000 [==============================] - 4s 68us/sample - loss: 0.0036\n",
            "Epoch 29/30\n",
            "60000/60000 [==============================] - 4s 68us/sample - loss: 0.0053\n",
            "Epoch 30/30\n",
            "60000/60000 [==============================] - 4s 68us/sample - loss: 0.0030\n",
            "10000/10000 [==============================] - 0s 45us/sample - loss: 0.1218\n",
            "[2.5557448e-29 6.9318065e-20 1.3646897e-14 1.9629296e-16 1.8316062e-32\n",
            " 3.1669296e-32 8.3024018e-34 1.0000000e+00 5.3779394e-21 5.4211527e-21]\n",
            "7\n"
          ],
          "name": "stdout"
        }
      ]
    },
    {
      "cell_type": "markdown",
      "metadata": {
        "id": "HS3vVkOgCDGZ",
        "colab_type": "text"
      },
      "source": [
        "#Exercise 7: \n",
        "\n",
        "Before you trained, you normalized the data, going from values that were 0-255 to values that were 0-1. What would be the impact of removing that? Here's the complete code to give it a try. Why do you think you get different results? "
      ]
    },
    {
      "cell_type": "code",
      "metadata": {
        "id": "JDqNAqrpCNg0",
        "colab_type": "code",
        "colab": {
          "base_uri": "https://localhost:8080/",
          "height": 278
        },
        "outputId": "e66b2045-c29e-464a-f7fb-6ca9ca7f5966"
      },
      "source": [
        "import tensorflow as tf\n",
        "print(tf.__version__)\n",
        "mnist = tf.keras.datasets.mnist\n",
        "(training_images, training_labels), (test_images, test_labels) = mnist.load_data()\n",
        "training_images=training_images/1.0\n",
        "test_images=test_images/1.0\n",
        "model = tf.keras.models.Sequential([\n",
        "  tf.keras.layers.Flatten(),\n",
        "  tf.keras.layers.Dense(512, activation=tf.nn.relu),\n",
        "  tf.keras.layers.Dense(10, activation=tf.nn.softmax)\n",
        "])\n",
        "model.compile(optimizer='adam', loss='sparse_categorical_crossentropy')\n",
        "model.fit(training_images, training_labels, epochs=5)\n",
        "model.evaluate(test_images, test_labels)\n",
        "classifications = model.predict(test_images)\n",
        "print(classifications[0])\n",
        "print(test_labels[0])"
      ],
      "execution_count": 24,
      "outputs": [
        {
          "output_type": "stream",
          "text": [
            "1.14.0\n",
            "Epoch 1/5\n",
            "60000/60000 [==============================] - 8s 127us/sample - loss: 2.5962\n",
            "Epoch 2/5\n",
            "60000/60000 [==============================] - 7s 117us/sample - loss: 0.3181\n",
            "Epoch 3/5\n",
            "60000/60000 [==============================] - 7s 116us/sample - loss: 0.3080\n",
            "Epoch 4/5\n",
            "60000/60000 [==============================] - 7s 117us/sample - loss: 0.2744\n",
            "Epoch 5/5\n",
            "60000/60000 [==============================] - 7s 116us/sample - loss: 0.2557\n",
            "10000/10000 [==============================] - 1s 69us/sample - loss: 0.3117\n",
            "[0.0000000e+00 2.9746033e-23 1.5920309e-25 2.8657386e-30 0.0000000e+00\n",
            " 2.5439586e-27 0.0000000e+00 1.0000000e+00 1.3002922e-37 3.6456270e-25]\n",
            "7\n"
          ],
          "name": "stdout"
        }
      ]
    },
    {
      "cell_type": "markdown",
      "metadata": {
        "id": "E7W2PT66ZBHQ",
        "colab_type": "text"
      },
      "source": [
        "#Exercise 8: \n",
        "\n",
        "Earlier when you trained for extra epochs you had an issue where your loss might change. It might have taken a bit of time for you to wait for the training to do that, and you might have thought 'wouldn't it be nice if I could stop the training when I reach a desired value?' -- i.e. 95% accuracy might be enough for you, and if you reach that after 3 epochs, why sit around waiting for it to finish a lot more epochs....So how would you fix that? Like any other program...you have callbacks! Let's see them in action..."
      ]
    },
    {
      "cell_type": "code",
      "metadata": {
        "id": "pkaEHHgqZbYv",
        "colab_type": "code",
        "colab": {
          "base_uri": "https://localhost:8080/",
          "height": 156
        },
        "outputId": "26bd5f37-c940-4c54-b241-59b66b898aca"
      },
      "source": [
        "import tensorflow as tf\n",
        "print(tf.__version__)\n",
        "\n",
        "class myCallback(tf.keras.callbacks.Callback):\n",
        "  def on_epoch_end(self, epoch, logs={}):\n",
        "    if(logs.get('loss')<0.4):\n",
        "      print(\"\\nReached 60% accuracy so cancelling training!\")\n",
        "      self.model.stop_training = True\n",
        "\n",
        "callbacks = myCallback()\n",
        "mnist = tf.keras.datasets.fashion_mnist\n",
        "(training_images, training_labels), (test_images, test_labels) = mnist.load_data()\n",
        "training_images=training_images/255.0\n",
        "test_images=test_images/255.0\n",
        "model = tf.keras.models.Sequential([\n",
        "  tf.keras.layers.Flatten(),\n",
        "  tf.keras.layers.Dense(512, activation=tf.nn.relu),\n",
        "  tf.keras.layers.Dense(10, activation=tf.nn.softmax)\n",
        "])\n",
        "model.compile(optimizer='adam', loss='sparse_categorical_crossentropy')\n",
        "model.fit(training_images, training_labels, epochs=5, callbacks=[callbacks])\n",
        "\n",
        "\n"
      ],
      "execution_count": 25,
      "outputs": [
        {
          "output_type": "stream",
          "text": [
            "1.14.0\n",
            "Epoch 1/5\n",
            "60000/60000 [==============================] - 7s 120us/sample - loss: 0.4747\n",
            "Epoch 2/5\n",
            "59680/60000 [============================>.] - ETA: 0s - loss: 0.3590\n",
            "Reached 60% accuracy so cancelling training!\n",
            "60000/60000 [==============================] - 7s 113us/sample - loss: 0.3587\n"
          ],
          "name": "stdout"
        },
        {
          "output_type": "execute_result",
          "data": {
            "text/plain": [
              "<tensorflow.python.keras.callbacks.History at 0x7f30de36f3d0>"
            ]
          },
          "metadata": {
            "tags": []
          },
          "execution_count": 25
        }
      ]
    },
    {
      "cell_type": "code",
      "metadata": {
        "id": "uK8J_IiVlIEN",
        "colab_type": "code",
        "colab": {}
      },
      "source": [
        ""
      ],
      "execution_count": 0,
      "outputs": []
    }
  ]
}