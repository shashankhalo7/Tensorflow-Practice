{
  "nbformat": 4,
  "nbformat_minor": 0,
  "metadata": {
    "colab": {
      "name": "Horse-or-Human-WithAugmentation.ipynb",
      "version": "0.3.2",
      "provenance": [],
      "collapsed_sections": []
    },
    "kernelspec": {
      "name": "python3",
      "display_name": "Python 3"
    },
    "accelerator": "GPU"
  },
  "cells": [
    {
      "cell_type": "code",
      "metadata": {
        "colab_type": "code",
        "id": "RXZT2UsyIVe_",
        "colab": {
          "base_uri": "https://localhost:8080/",
          "height": 427
        },
        "outputId": "53af73c4-715f-44c8-aaa1-816b80649e6d"
      },
      "source": [
        "!wget --no-check-certificate \\\n",
        "    https://storage.googleapis.com/laurencemoroney-blog.appspot.com/horse-or-human.zip \\\n",
        "    -O /tmp/horse-or-human.zip\n",
        "\n",
        "!wget --no-check-certificate \\\n",
        "    https://storage.googleapis.com/laurencemoroney-blog.appspot.com/validation-horse-or-human.zip \\\n",
        "    -O /tmp/validation-horse-or-human.zip\n",
        "  \n",
        "import os\n",
        "import zipfile\n",
        "\n",
        "local_zip = '/tmp/horse-or-human.zip'\n",
        "zip_ref = zipfile.ZipFile(local_zip, 'r')\n",
        "zip_ref.extractall('/tmp/horse-or-human')\n",
        "local_zip = '/tmp/validation-horse-or-human.zip'\n",
        "zip_ref = zipfile.ZipFile(local_zip, 'r')\n",
        "zip_ref.extractall('/tmp/validation-horse-or-human')\n",
        "zip_ref.close()\n",
        "# Directory with our training horse pictures\n",
        "train_horse_dir = os.path.join('/tmp/horse-or-human/horses')\n",
        "\n",
        "# Directory with our training human pictures\n",
        "train_human_dir = os.path.join('/tmp/horse-or-human/humans')\n",
        "\n",
        "# Directory with our training horse pictures\n",
        "validation_horse_dir = os.path.join('/tmp/validation-horse-or-human/horses')\n",
        "\n",
        "# Directory with our training human pictures\n",
        "validation_human_dir = os.path.join('/tmp/validation-horse-or-human/humans')"
      ],
      "execution_count": 1,
      "outputs": [
        {
          "output_type": "stream",
          "text": [
            "--2019-07-07 14:41:42--  https://storage.googleapis.com/laurencemoroney-blog.appspot.com/horse-or-human.zip\n",
            "Resolving storage.googleapis.com (storage.googleapis.com)... 172.217.161.48, 2404:6800:4004:809::2010\n",
            "Connecting to storage.googleapis.com (storage.googleapis.com)|172.217.161.48|:443... connected.\n",
            "HTTP request sent, awaiting response... 200 OK\n",
            "Length: 149574867 (143M) [application/zip]\n",
            "Saving to: ‘/tmp/horse-or-human.zip’\n",
            "\n",
            "/tmp/horse-or-human 100%[===================>] 142.65M   130MB/s    in 1.1s    \n",
            "\n",
            "2019-07-07 14:41:43 (130 MB/s) - ‘/tmp/horse-or-human.zip’ saved [149574867/149574867]\n",
            "\n",
            "--2019-07-07 14:41:46--  https://storage.googleapis.com/laurencemoroney-blog.appspot.com/validation-horse-or-human.zip\n",
            "Resolving storage.googleapis.com (storage.googleapis.com)... 216.58.197.240, 2404:6800:4004:801::2010\n",
            "Connecting to storage.googleapis.com (storage.googleapis.com)|216.58.197.240|:443... connected.\n",
            "HTTP request sent, awaiting response... 200 OK\n",
            "Length: 11480187 (11M) [application/zip]\n",
            "Saving to: ‘/tmp/validation-horse-or-human.zip’\n",
            "\n",
            "/tmp/validation-hor 100%[===================>]  10.95M  --.-KB/s    in 0.08s   \n",
            "\n",
            "2019-07-07 14:41:47 (142 MB/s) - ‘/tmp/validation-horse-or-human.zip’ saved [11480187/11480187]\n",
            "\n"
          ],
          "name": "stdout"
        }
      ]
    },
    {
      "cell_type": "markdown",
      "metadata": {
        "colab_type": "text",
        "id": "5oqBkNBJmtUv"
      },
      "source": [
        "## Building a Small Model from Scratch\n",
        "\n",
        "But before we continue, let's start defining the model:\n",
        "\n",
        "Step 1 will be to import tensorflow."
      ]
    },
    {
      "cell_type": "code",
      "metadata": {
        "id": "qvfZg3LQbD-5",
        "colab_type": "code",
        "colab": {}
      },
      "source": [
        "import tensorflow as tf"
      ],
      "execution_count": 0,
      "outputs": []
    },
    {
      "cell_type": "markdown",
      "metadata": {
        "colab_type": "text",
        "id": "BnhYCP4tdqjC"
      },
      "source": [
        "We then add convolutional layers as in the previous example, and flatten the final result to feed into the densely connected layers."
      ]
    },
    {
      "cell_type": "markdown",
      "metadata": {
        "id": "gokG5HKpdtzm",
        "colab_type": "text"
      },
      "source": [
        "Finally we add the densely connected layers. \n",
        "\n",
        "Note that because we are facing a two-class classification problem, i.e. a *binary classification problem*, we will end our network with a [*sigmoid* activation](https://wikipedia.org/wiki/Sigmoid_function), so that the output of our network will be a single scalar between 0 and 1, encoding the probability that the current image is class 1 (as opposed to class 0)."
      ]
    },
    {
      "cell_type": "code",
      "metadata": {
        "id": "PixZ2s5QbYQ3",
        "colab_type": "code",
        "colab": {
          "base_uri": "https://localhost:8080/",
          "height": 108
        },
        "outputId": "c2a6b9f9-84c1-4419-d602-b77abdac6c5f"
      },
      "source": [
        "model = tf.keras.models.Sequential([\n",
        "    # Note the input shape is the desired size of the image 300x300 with 3 bytes color\n",
        "    # This is the first convolution\n",
        "    tf.keras.layers.Conv2D(16, (3,3), activation='relu', input_shape=(300, 300, 3)),\n",
        "    tf.keras.layers.MaxPooling2D(2, 2),\n",
        "    # The second convolution\n",
        "    tf.keras.layers.Conv2D(32, (3,3), activation='relu'),\n",
        "    tf.keras.layers.MaxPooling2D(2,2),\n",
        "    # The third convolution\n",
        "    tf.keras.layers.Conv2D(64, (3,3), activation='relu'),\n",
        "    tf.keras.layers.MaxPooling2D(2,2),\n",
        "    # The fourth convolution\n",
        "    tf.keras.layers.Conv2D(64, (3,3), activation='relu'),\n",
        "    tf.keras.layers.MaxPooling2D(2,2),\n",
        "    # The fifth convolution\n",
        "    tf.keras.layers.Conv2D(64, (3,3), activation='relu'),\n",
        "    tf.keras.layers.MaxPooling2D(2,2),\n",
        "    # Flatten the results to feed into a DNN\n",
        "    tf.keras.layers.Flatten(),\n",
        "    # 512 neuron hidden layer\n",
        "    tf.keras.layers.Dense(512, activation='relu'),\n",
        "    # Only 1 output neuron. It will contain a value from 0-1 where 0 for 1 class ('horses') and 1 for the other ('humans')\n",
        "    tf.keras.layers.Dense(1, activation='sigmoid')\n",
        "])"
      ],
      "execution_count": 3,
      "outputs": [
        {
          "output_type": "stream",
          "text": [
            "WARNING: Logging before flag parsing goes to stderr.\n",
            "W0707 14:43:21.499998 140430849517440 deprecation.py:506] From /usr/local/lib/python3.6/dist-packages/tensorflow/python/ops/init_ops.py:1251: calling VarianceScaling.__init__ (from tensorflow.python.ops.init_ops) with dtype is deprecated and will be removed in a future version.\n",
            "Instructions for updating:\n",
            "Call initializer instance with the dtype argument instead of passing it to the constructor\n"
          ],
          "name": "stderr"
        }
      ]
    },
    {
      "cell_type": "code",
      "metadata": {
        "colab_type": "code",
        "id": "8DHWhFP_uhq3",
        "colab": {
          "base_uri": "https://localhost:8080/",
          "height": 90
        },
        "outputId": "dc3e60cf-2d1c-4cd7-aa1c-356b1716be47"
      },
      "source": [
        "from tensorflow.keras.optimizers import RMSprop\n",
        "\n",
        "model.compile(loss='binary_crossentropy',\n",
        "              optimizer=RMSprop(lr=1e-4),\n",
        "              metrics=['acc'])"
      ],
      "execution_count": 4,
      "outputs": [
        {
          "output_type": "stream",
          "text": [
            "W0707 14:43:39.380109 140430849517440 deprecation.py:323] From /usr/local/lib/python3.6/dist-packages/tensorflow/python/ops/nn_impl.py:180: add_dispatch_support.<locals>.wrapper (from tensorflow.python.ops.array_ops) is deprecated and will be removed in a future version.\n",
            "Instructions for updating:\n",
            "Use tf.where in 2.0, which has the same broadcast rule as np.where\n"
          ],
          "name": "stderr"
        }
      ]
    },
    {
      "cell_type": "code",
      "metadata": {
        "colab_type": "code",
        "id": "ClebU9NJg99G",
        "colab": {
          "base_uri": "https://localhost:8080/",
          "height": 52
        },
        "outputId": "d78e71e5-bf5a-4cef-dec8-67cacfb35178"
      },
      "source": [
        "from tensorflow.keras.preprocessing.image import ImageDataGenerator\n",
        "\n",
        "# All images will be rescaled by 1./255\n",
        "train_datagen = ImageDataGenerator(\n",
        "      rescale=1./255,\n",
        "      rotation_range=40,\n",
        "      width_shift_range=0.2,\n",
        "      height_shift_range=0.2,\n",
        "      shear_range=0.2,\n",
        "      zoom_range=0.2,\n",
        "      horizontal_flip=True,\n",
        "      fill_mode='nearest')\n",
        "\n",
        "validation_datagen = ImageDataGenerator(rescale=1/255)\n",
        "\n",
        "# Flow training images in batches of 128 using train_datagen generator\n",
        "train_generator = train_datagen.flow_from_directory(\n",
        "        '/tmp/horse-or-human/',  # This is the source directory for training images\n",
        "        target_size=(300, 300),  # All images will be resized to 150x150\n",
        "        batch_size=128,\n",
        "        # Since we use binary_crossentropy loss, we need binary labels\n",
        "        class_mode='binary')\n",
        "\n",
        "# Flow training images in batches of 128 using train_datagen generator\n",
        "validation_generator = validation_datagen.flow_from_directory(\n",
        "        '/tmp/validation-horse-or-human/',  # This is the source directory for training images\n",
        "        target_size=(300, 300),  # All images will be resized to 150x150\n",
        "        batch_size=32,\n",
        "        # Since we use binary_crossentropy loss, we need binary labels\n",
        "        class_mode='binary')"
      ],
      "execution_count": 5,
      "outputs": [
        {
          "output_type": "stream",
          "text": [
            "Found 1027 images belonging to 2 classes.\n",
            "Found 256 images belonging to 2 classes.\n"
          ],
          "name": "stdout"
        }
      ]
    },
    {
      "cell_type": "code",
      "metadata": {
        "colab_type": "code",
        "id": "Fb1_lgobv81m",
        "colab": {
          "base_uri": "https://localhost:8080/",
          "height": 1000
        },
        "outputId": "0a8a4062-6116-482a-d990-569b93119643"
      },
      "source": [
        "history = model.fit_generator(\n",
        "      train_generator,\n",
        "      steps_per_epoch=8,  \n",
        "      epochs=100,\n",
        "      verbose=1,\n",
        "      validation_data = validation_generator,\n",
        "      validation_steps=8)"
      ],
      "execution_count": 6,
      "outputs": [
        {
          "output_type": "stream",
          "text": [
            "Epoch 1/100\n",
            "8/8 [==============================] - 21s 3s/step - loss: 0.6849 - acc: 0.5695 - val_loss: 0.6576 - val_acc: 0.5000\n",
            "Epoch 2/100\n",
            "8/8 [==============================] - 19s 2s/step - loss: 0.6686 - acc: 0.6496 - val_loss: 0.6848 - val_acc: 0.5000\n",
            "Epoch 3/100\n",
            "8/8 [==============================] - 22s 3s/step - loss: 0.6330 - acc: 0.6738 - val_loss: 0.5186 - val_acc: 0.8242\n",
            "Epoch 4/100\n",
            "8/8 [==============================] - 17s 2s/step - loss: 0.6407 - acc: 0.6563 - val_loss: 0.5297 - val_acc: 0.7148\n",
            "Epoch 5/100\n",
            "8/8 [==============================] - 22s 3s/step - loss: 0.5900 - acc: 0.7188 - val_loss: 0.4178 - val_acc: 0.8906\n",
            "Epoch 6/100\n",
            "8/8 [==============================] - 17s 2s/step - loss: 0.5754 - acc: 0.6835 - val_loss: 0.5538 - val_acc: 0.6797\n",
            "Epoch 7/100\n",
            "8/8 [==============================] - 19s 2s/step - loss: 0.5337 - acc: 0.7542 - val_loss: 0.3389 - val_acc: 0.9531\n",
            "Epoch 8/100\n",
            "8/8 [==============================] - 22s 3s/step - loss: 0.5894 - acc: 0.7217 - val_loss: 0.6310 - val_acc: 0.6797\n",
            "Epoch 9/100\n",
            "8/8 [==============================] - 19s 2s/step - loss: 0.5253 - acc: 0.7853 - val_loss: 0.4625 - val_acc: 0.7617\n",
            "Epoch 10/100\n",
            "8/8 [==============================] - 19s 2s/step - loss: 0.5179 - acc: 0.7475 - val_loss: 0.6569 - val_acc: 0.6875\n",
            "Epoch 11/100\n",
            "8/8 [==============================] - 19s 2s/step - loss: 0.5165 - acc: 0.7664 - val_loss: 0.7160 - val_acc: 0.6719\n",
            "8/8 [==============================] - 19s 2s/step - loss: 0.4404 - acc: 0.7887 - val_loss: 1.0098 - val_acc: 0.6055\n",
            "Epoch 13/100\n",
            "8/8 [==============================] - 19s 2s/step - loss: 0.4167 - acc: 0.7898 - val_loss: 0.7658 - val_acc: 0.6953\n",
            "Epoch 14/100\n",
            "8/8 [==============================] - 22s 3s/step - loss: 0.4246 - acc: 0.7959 - val_loss: 0.7697 - val_acc: 0.6953\n",
            "Epoch 15/100\n",
            "8/8 [==============================] - 20s 2s/step - loss: 0.5315 - acc: 0.7697 - val_loss: 0.6950 - val_acc: 0.7031\n",
            "Epoch 16/100\n",
            "8/8 [==============================] - 20s 2s/step - loss: 0.3890 - acc: 0.8209 - val_loss: 0.8067 - val_acc: 0.6953\n",
            "Epoch 17/100\n",
            "8/8 [==============================] - 19s 2s/step - loss: 0.3541 - acc: 0.8320 - val_loss: 0.9310 - val_acc: 0.6914\n",
            "Epoch 18/100\n",
            "8/8 [==============================] - 19s 2s/step - loss: 0.4428 - acc: 0.8020 - val_loss: 1.2159 - val_acc: 0.6406\n",
            "Epoch 19/100\n",
            "8/8 [==============================] - 19s 2s/step - loss: 0.4832 - acc: 0.8242 - val_loss: 1.1041 - val_acc: 0.6445\n",
            "Epoch 20/100\n",
            "8/8 [==============================] - 19s 2s/step - loss: 0.3399 - acc: 0.8365 - val_loss: 1.2733 - val_acc: 0.6133\n",
            "Epoch 21/100\n",
            "8/8 [==============================] - 22s 3s/step - loss: 0.3752 - acc: 0.8213 - val_loss: 1.6219 - val_acc: 0.5664\n",
            "Epoch 22/100\n",
            "8/8 [==============================] - 17s 2s/step - loss: 0.3832 - acc: 0.7842 - val_loss: 1.0589 - val_acc: 0.6719\n",
            "Epoch 23/100\n",
            "8/8 [==============================] - 22s 3s/step - loss: 0.3575 - acc: 0.8428 - val_loss: 1.0333 - val_acc: 0.6719\n",
            "Epoch 24/100\n",
            "8/8 [==============================] - 20s 2s/step - loss: 0.4613 - acc: 0.8098 - val_loss: 1.2506 - val_acc: 0.6250\n",
            "Epoch 25/100\n",
            "8/8 [==============================] - 17s 2s/step - loss: 0.3472 - acc: 0.8488 - val_loss: 1.3070 - val_acc: 0.6250\n",
            "Epoch 26/100\n",
            "8/8 [==============================] - 19s 2s/step - loss: 0.3434 - acc: 0.8699 - val_loss: 2.1720 - val_acc: 0.5234\n",
            "Epoch 27/100\n",
            "8/8 [==============================] - 22s 3s/step - loss: 0.3600 - acc: 0.8506 - val_loss: 1.1697 - val_acc: 0.6719\n",
            "Epoch 28/100\n",
            "8/8 [==============================] - 19s 2s/step - loss: 0.4602 - acc: 0.8042 - val_loss: 1.0420 - val_acc: 0.6797\n",
            "Epoch 29/100\n",
            "8/8 [==============================] - 19s 2s/step - loss: 0.4268 - acc: 0.8231 - val_loss: 1.5071 - val_acc: 0.5703\n",
            "Epoch 30/100\n",
            "8/8 [==============================] - 22s 3s/step - loss: 0.3314 - acc: 0.8633 - val_loss: 1.2644 - val_acc: 0.6406\n",
            "Epoch 31/100\n",
            "8/8 [==============================] - 20s 2s/step - loss: 0.2873 - acc: 0.8877 - val_loss: 1.4529 - val_acc: 0.6289\n",
            "Epoch 32/100\n",
            "8/8 [==============================] - 19s 2s/step - loss: 0.3208 - acc: 0.8420 - val_loss: 1.3749 - val_acc: 0.6406\n",
            "Epoch 33/100\n",
            "8/8 [==============================] - 17s 2s/step - loss: 0.3469 - acc: 0.8592 - val_loss: 1.4554 - val_acc: 0.6250\n",
            "Epoch 34/100\n",
            "8/8 [==============================] - 19s 2s/step - loss: 0.2695 - acc: 0.8943 - val_loss: 0.6897 - val_acc: 0.7891\n",
            "Epoch 35/100\n",
            "8/8 [==============================] - 22s 3s/step - loss: 0.3409 - acc: 0.8643 - val_loss: 1.8085 - val_acc: 0.5938\n",
            "Epoch 36/100\n",
            "8/8 [==============================] - 20s 2s/step - loss: 0.2773 - acc: 0.8810 - val_loss: 2.0175 - val_acc: 0.5742\n",
            "Epoch 37/100\n",
            "8/8 [==============================] - 19s 2s/step - loss: 0.2718 - acc: 0.8788 - val_loss: 2.0942 - val_acc: 0.5781\n",
            "Epoch 38/100\n",
            "8/8 [==============================] - 19s 2s/step - loss: 0.2795 - acc: 0.8943 - val_loss: 1.4902 - val_acc: 0.6562\n",
            "Epoch 39/100\n",
            "8/8 [==============================] - 22s 3s/step - loss: 0.2708 - acc: 0.8857 - val_loss: 1.9996 - val_acc: 0.5938\n",
            "Epoch 40/100\n",
            "8/8 [==============================] - 17s 2s/step - loss: 0.3516 - acc: 0.8501 - val_loss: 1.6524 - val_acc: 0.6211\n",
            "Epoch 41/100\n",
            "8/8 [==============================] - 19s 2s/step - loss: 0.2249 - acc: 0.8877 - val_loss: 1.7413 - val_acc: 0.6328\n",
            "Epoch 42/100\n",
            "8/8 [==============================] - 19s 2s/step - loss: 0.2613 - acc: 0.8899 - val_loss: 1.7478 - val_acc: 0.6250\n",
            "Epoch 43/100\n",
            "8/8 [==============================] - 22s 3s/step - loss: 0.2344 - acc: 0.9062 - val_loss: 2.8068 - val_acc: 0.5469\n",
            "Epoch 44/100\n",
            "8/8 [==============================] - 19s 2s/step - loss: 0.2892 - acc: 0.8543 - val_loss: 1.8099 - val_acc: 0.6250\n",
            "Epoch 45/100\n",
            "8/8 [==============================] - 19s 2s/step - loss: 0.2590 - acc: 0.9032 - val_loss: 1.5544 - val_acc: 0.6602\n",
            "Epoch 46/100\n",
            "8/8 [==============================] - 19s 2s/step - loss: 0.2185 - acc: 0.9021 - val_loss: 1.6380 - val_acc: 0.6602\n",
            "Epoch 47/100\n",
            "8/8 [==============================] - 19s 2s/step - loss: 0.2543 - acc: 0.8821 - val_loss: 3.1565 - val_acc: 0.5273\n",
            "Epoch 48/100\n",
            "8/8 [==============================] - 19s 2s/step - loss: 0.2567 - acc: 0.9077 - val_loss: 2.5196 - val_acc: 0.5625\n",
            "Epoch 49/100\n",
            "8/8 [==============================] - 22s 3s/step - loss: 0.2054 - acc: 0.9287 - val_loss: 2.4986 - val_acc: 0.5898\n",
            "Epoch 50/100\n",
            "8/8 [==============================] - 17s 2s/step - loss: 0.2246 - acc: 0.9005 - val_loss: 2.0167 - val_acc: 0.6445\n",
            "Epoch 51/100\n",
            "8/8 [==============================] - 19s 2s/step - loss: 0.2569 - acc: 0.9255 - val_loss: 1.4136 - val_acc: 0.6758\n",
            "Epoch 52/100\n",
            "8/8 [==============================] - 22s 3s/step - loss: 0.2246 - acc: 0.9053 - val_loss: 2.1893 - val_acc: 0.6211\n",
            "Epoch 53/100\n",
            "8/8 [==============================] - 19s 2s/step - loss: 0.2010 - acc: 0.9333 - val_loss: 1.6734 - val_acc: 0.6758\n",
            "Epoch 54/100\n",
            "8/8 [==============================] - 19s 2s/step - loss: 0.2438 - acc: 0.8966 - val_loss: 1.8078 - val_acc: 0.6523\n",
            "Epoch 55/100\n",
            "8/8 [==============================] - 19s 2s/step - loss: 0.2819 - acc: 0.9288 - val_loss: 0.2883 - val_acc: 0.9062\n",
            "Epoch 56/100\n",
            "8/8 [==============================] - 19s 2s/step - loss: 0.3694 - acc: 0.8865 - val_loss: 2.0601 - val_acc: 0.6562\n",
            "Epoch 57/100\n",
            "8/8 [==============================] - 19s 2s/step - loss: 0.1551 - acc: 0.9310 - val_loss: 2.7937 - val_acc: 0.6016\n",
            "Epoch 58/100\n",
            "8/8 [==============================] - 20s 2s/step - loss: 0.1681 - acc: 0.9143 - val_loss: 1.5637 - val_acc: 0.6914\n",
            "Epoch 59/100\n",
            "8/8 [==============================] - 19s 2s/step - loss: 0.1535 - acc: 0.9366 - val_loss: 2.0432 - val_acc: 0.6484\n",
            "Epoch 60/100\n",
            "8/8 [==============================] - 22s 3s/step - loss: 0.1613 - acc: 0.9316 - val_loss: 1.5167 - val_acc: 0.6953\n",
            "Epoch 61/100\n",
            "8/8 [==============================] - 19s 2s/step - loss: 0.2315 - acc: 0.9032 - val_loss: 2.1761 - val_acc: 0.6484\n",
            "Epoch 62/100\n",
            "8/8 [==============================] - 19s 2s/step - loss: 0.2703 - acc: 0.9021 - val_loss: 2.0078 - val_acc: 0.6523\n",
            "Epoch 63/100\n",
            "8/8 [==============================] - 20s 2s/step - loss: 0.1481 - acc: 0.9333 - val_loss: 1.9047 - val_acc: 0.6641\n",
            "Epoch 64/100\n",
            "8/8 [==============================] - 20s 2s/step - loss: 0.1862 - acc: 0.9166 - val_loss: 1.2856 - val_acc: 0.7148\n",
            "Epoch 65/100\n",
            "8/8 [==============================] - 20s 2s/step - loss: 0.1800 - acc: 0.9377 - val_loss: 2.5100 - val_acc: 0.6367\n",
            "Epoch 66/100\n",
            "8/8 [==============================] - 22s 3s/step - loss: 0.1683 - acc: 0.9307 - val_loss: 1.7058 - val_acc: 0.6797\n",
            "Epoch 67/100\n",
            "8/8 [==============================] - 17s 2s/step - loss: 0.2477 - acc: 0.8953 - val_loss: 1.8383 - val_acc: 0.6680\n",
            "Epoch 68/100\n",
            "8/8 [==============================] - 22s 3s/step - loss: 0.1632 - acc: 0.9365 - val_loss: 2.7310 - val_acc: 0.6289\n",
            "Epoch 69/100\n",
            "8/8 [==============================] - 17s 2s/step - loss: 0.1147 - acc: 0.9548 - val_loss: 1.6186 - val_acc: 0.6953\n",
            "Epoch 70/100\n",
            "8/8 [==============================] - 19s 2s/step - loss: 0.1835 - acc: 0.9066 - val_loss: 2.2672 - val_acc: 0.6602\n",
            "Epoch 71/100\n",
            "8/8 [==============================] - 22s 3s/step - loss: 0.1356 - acc: 0.9453 - val_loss: 2.9271 - val_acc: 0.6328\n",
            "Epoch 72/100\n",
            "8/8 [==============================] - 19s 2s/step - loss: 0.1982 - acc: 0.9166 - val_loss: 3.4948 - val_acc: 0.5547\n",
            "Epoch 73/100\n",
            "8/8 [==============================] - 20s 2s/step - loss: 0.1650 - acc: 0.9333 - val_loss: 1.6324 - val_acc: 0.7031\n",
            "Epoch 74/100\n",
            "8/8 [==============================] - 19s 2s/step - loss: 0.1401 - acc: 0.9422 - val_loss: 1.7704 - val_acc: 0.6953\n",
            "Epoch 75/100\n",
            "8/8 [==============================] - 22s 3s/step - loss: 0.2131 - acc: 0.9189 - val_loss: 2.1570 - val_acc: 0.6602\n",
            "Epoch 76/100\n",
            "8/8 [==============================] - 20s 2s/step - loss: 0.1283 - acc: 0.9422 - val_loss: 3.1510 - val_acc: 0.6328\n",
            "Epoch 77/100\n",
            "8/8 [==============================] - 20s 3s/step - loss: 0.1411 - acc: 0.9388 - val_loss: 2.9981 - val_acc: 0.6367\n",
            "Epoch 78/100\n",
            "8/8 [==============================] - 17s 2s/step - loss: 0.1356 - acc: 0.9238 - val_loss: 2.1767 - val_acc: 0.6680\n",
            "Epoch 79/100\n",
            "8/8 [==============================] - 22s 3s/step - loss: 0.1249 - acc: 0.9531 - val_loss: 2.4548 - val_acc: 0.6641\n",
            "Epoch 80/100\n",
            "8/8 [==============================] - 17s 2s/step - loss: 0.1946 - acc: 0.9302 - val_loss: 2.0457 - val_acc: 0.6797\n",
            "Epoch 81/100\n",
            "8/8 [==============================] - 22s 3s/step - loss: 0.1268 - acc: 0.9492 - val_loss: 2.4615 - val_acc: 0.6523\n",
            "Epoch 82/100\n",
            "8/8 [==============================] - 19s 2s/step - loss: 0.1153 - acc: 0.9600 - val_loss: 5.6601 - val_acc: 0.5039\n",
            "Epoch 83/100\n",
            "8/8 [==============================] - 19s 2s/step - loss: 0.1592 - acc: 0.9388 - val_loss: 2.2659 - val_acc: 0.6758\n",
            "Epoch 84/100\n",
            "8/8 [==============================] - 19s 2s/step - loss: 0.1250 - acc: 0.9488 - val_loss: 2.0058 - val_acc: 0.6836\n",
            "Epoch 85/100\n",
            "8/8 [==============================] - 19s 2s/step - loss: 0.2145 - acc: 0.9066 - val_loss: 2.2036 - val_acc: 0.6680\n",
            "Epoch 86/100\n",
            "8/8 [==============================] - 19s 2s/step - loss: 0.0992 - acc: 0.9588 - val_loss: 2.8109 - val_acc: 0.6367\n",
            "Epoch 87/100\n",
            "8/8 [==============================] - 22s 3s/step - loss: 0.1250 - acc: 0.9580 - val_loss: 1.9989 - val_acc: 0.7031\n",
            "Epoch 88/100\n",
            "8/8 [==============================] - 17s 2s/step - loss: 0.0954 - acc: 0.9587 - val_loss: 2.5900 - val_acc: 0.6562\n",
            "Epoch 89/100\n",
            "8/8 [==============================] - 22s 3s/step - loss: 0.1855 - acc: 0.9248 - val_loss: 1.7659 - val_acc: 0.6875\n",
            "Epoch 90/100\n",
            "8/8 [==============================] - 19s 2s/step - loss: 0.1088 - acc: 0.9622 - val_loss: 2.4708 - val_acc: 0.6562\n",
            "Epoch 91/100\n",
            "8/8 [==============================] - 22s 3s/step - loss: 0.1231 - acc: 0.9551 - val_loss: 2.0394 - val_acc: 0.7109\n",
            "Epoch 92/100\n",
            "8/8 [==============================] - 18s 2s/step - loss: 0.1525 - acc: 0.9328 - val_loss: 1.8509 - val_acc: 0.7188\n",
            "Epoch 93/100\n",
            "8/8 [==============================] - 19s 2s/step - loss: 0.1325 - acc: 0.9511 - val_loss: 4.0452 - val_acc: 0.5859\n",
            "Epoch 94/100\n",
            "8/8 [==============================] - 23s 3s/step - loss: 0.1827 - acc: 0.9277 - val_loss: 1.8562 - val_acc: 0.7188\n",
            "Epoch 95/100\n",
            "8/8 [==============================] - 17s 2s/step - loss: 0.4424 - acc: 0.9018 - val_loss: 3.5996 - val_acc: 0.5586\n",
            "Epoch 96/100\n",
            "8/8 [==============================] - 22s 3s/step - loss: 0.1288 - acc: 0.9492 - val_loss: 2.3184 - val_acc: 0.6562\n",
            "Epoch 97/100\n",
            "8/8 [==============================] - 20s 2s/step - loss: 0.0889 - acc: 0.9722 - val_loss: 2.7903 - val_acc: 0.6523\n",
            "Epoch 98/100\n",
            "8/8 [==============================] - 20s 2s/step - loss: 0.0831 - acc: 0.9689 - val_loss: 2.9302 - val_acc: 0.6523\n",
            "Epoch 99/100\n",
            "8/8 [==============================] - 20s 2s/step - loss: 0.2520 - acc: 0.9388 - val_loss: 1.8753 - val_acc: 0.7109\n",
            "Epoch 100/100\n",
            "8/8 [==============================] - 20s 2s/step - loss: 0.1373 - acc: 0.9455 - val_loss: 2.1477 - val_acc: 0.7031\n"
          ],
          "name": "stdout"
        }
      ]
    },
    {
      "cell_type": "code",
      "metadata": {
        "id": "7zNPRWOVJdOH",
        "colab_type": "code",
        "colab": {
          "base_uri": "https://localhost:8080/",
          "height": 545
        },
        "outputId": "b2c4ef6c-49e9-44da-b631-4d7bef7c5d12"
      },
      "source": [
        "import matplotlib.pyplot as plt\n",
        "acc = history.history['acc']\n",
        "val_acc = history.history['val_acc']\n",
        "loss = history.history['loss']\n",
        "val_loss = history.history['val_loss']\n",
        "\n",
        "epochs = range(len(acc))\n",
        "\n",
        "plt.plot(epochs, acc, 'r', label='Training accuracy')\n",
        "plt.plot(epochs, val_acc, 'b', label='Validation accuracy')\n",
        "plt.title('Training and validation accuracy')\n",
        "\n",
        "plt.figure()\n",
        "\n",
        "plt.plot(epochs, loss, 'r', label='Training Loss')\n",
        "plt.plot(epochs, val_loss, 'b', label='Validation Loss')\n",
        "plt.title('Training and validation loss')\n",
        "plt.legend()\n",
        "\n",
        "plt.show()"
      ],
      "execution_count": 7,
      "outputs": [
        {
          "output_type": "display_data",
          "data": {
            "image/png": "[encoded data removed]",
            "text/plain": [
              "<Figure size 432x288 with 1 Axes>"
            ]
          },
          "metadata": {
            "tags": []
          }
        },
        {
          "output_type": "display_data",
          "data": {
            "image/png": "[encoded data removed]",
            "text/plain": [
              "<Figure size 432x288 with 1 Axes>"
            ]
          },
          "metadata": {
            "tags": []
          }
        }
      ]
    },
    {
      "cell_type": "code",
      "metadata": {
        "id": "38SFBTOi70xa",
        "colab_type": "code",
        "colab": {}
      },
      "source": [
        ""
      ],
      "execution_count": 0,
      "outputs": []
    }
  ]
}