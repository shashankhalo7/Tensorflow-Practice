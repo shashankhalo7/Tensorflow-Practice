{
  "nbformat": 4,
  "nbformat_minor": 0,
  "metadata": {
    "colab": {
      "name": "Exercise 3 - Question.ipynb",
      "version": "0.3.2",
      "provenance": [],
      "collapsed_sections": []
    },
    "kernelspec": {
      "name": "python3",
      "display_name": "Python 3"
    },
    "accelerator": "GPU"
  },
  "cells": [
    {
      "cell_type": "markdown",
      "metadata": {
        "id": "iQjHqsmTAVLU",
        "colab_type": "text"
      },
      "source": [
        "## Exercise 3\n",
        "In the videos you looked at how you would improve Fashion MNIST using Convolutions. For your exercise see if you can improve MNIST to 99.8% accuracy or more using only a single convolutional layer and a single MaxPooling 2D. You should stop training once the accuracy goes above this amount. It should happen in less than 20 epochs, so it's ok to hard code the number of epochs for training, but your training must end once it hits the above metric. If it doesn't, then you'll need to redesign your layers.\n",
        "\n",
        "I've started the code for you -- you need to finish it!\n",
        "\n",
        "When 99.8% accuracy has been hit, you should print out the string \"Reached 99.8% accuracy so cancelling training!\"\n"
      ]
    },
    {
      "cell_type": "code",
      "metadata": {
        "id": "sfQRyaJWAIdg",
        "colab_type": "code",
        "colab": {
          "base_uri": "https://localhost:8080/",
          "height": 382
        },
        "outputId": "914ba073-bb61-4c1f-e9c4-359851d406a1"
      },
      "source": [
        "import tensorflow as tf\n",
        "\n",
        "class callback(tf.keras.callbacks.Callback):\n",
        "  def on_epoch_end(self,epoch,logs={}):\n",
        "    if logs['acc']>=0.998:\n",
        "      print(\"Got 99.8% accuracy.Stopping the process\")\n",
        "      self.model.stop_training=True  \n",
        "mycallback=callback()\n",
        "mnist=tf.keras.datasets.mnist\n",
        "(x_train,y_train),(x_test,y_test)=mnist.load_data()\n",
        "x_train=x_train.reshape(x_train.shape[0],x_train.shape[1],x_train.shape[2],1)\n",
        "x_train=x_train/255.0\n",
        "x_test=x_test.reshape(x_test.shape[0],x_test.shape[1],x_test.shape[2],1)\n",
        "x_test=x_test/255.0\n",
        "\n",
        "model = tf.keras.models.Sequential([\n",
        "    tf.keras.layers.Conv2D(64,(3,3),activation='relu',input_shape=(x_train.shape[1],x_train.shape[2],1)),\n",
        "    tf.keras.layers.MaxPooling2D(2,2),\n",
        "    tf.keras.layers.Flatten(),\n",
        "    tf.keras.layers.Dense(128,activation='relu'),\n",
        "    tf.keras.layers.Dense(10,activation='softmax')])    # YOUR CODE STARTS HERE\n",
        "model.compile(optimizer='adam',loss='sparse_categorical_crossentropy',metrics=['accuracy'])\n",
        "model.fit(x_train,y_train,epochs=20,callbacks=[mycallback])\n",
        "\n",
        "print(model.evaluate(x_test,y_test))\n",
        "   \n",
        "\n"
      ],
      "execution_count": 12,
      "outputs": [
        {
          "output_type": "stream",
          "text": [
            "Epoch 1/20\n",
            "60000/60000 [==============================] - 11s 178us/sample - loss: 0.1361 - acc: 0.9592\n",
            "Epoch 2/20\n",
            "60000/60000 [==============================] - 11s 176us/sample - loss: 0.0469 - acc: 0.9861\n",
            "Epoch 3/20\n",
            "60000/60000 [==============================] - 11s 175us/sample - loss: 0.0275 - acc: 0.9914\n",
            "Epoch 4/20\n",
            "60000/60000 [==============================] - 10s 175us/sample - loss: 0.0192 - acc: 0.9934\n",
            "Epoch 5/20\n",
            "60000/60000 [==============================] - 11s 176us/sample - loss: 0.0111 - acc: 0.9966\n",
            "Epoch 6/20\n",
            "60000/60000 [==============================] - 11s 180us/sample - loss: 0.0095 - acc: 0.9971\n",
            "Epoch 7/20\n",
            "60000/60000 [==============================] - 11s 178us/sample - loss: 0.0069 - acc: 0.9978\n",
            "Epoch 8/20\n",
            "60000/60000 [==============================] - 11s 176us/sample - loss: 0.0060 - acc: 0.9979\n",
            "Epoch 9/20\n",
            "59744/60000 [============================>.] - ETA: 0s - loss: 0.0050 - acc: 0.9983Got 99.8% accuracy.Stopping the process\n",
            "60000/60000 [==============================] - 11s 175us/sample - loss: 0.0050 - acc: 0.9983\n",
            "10000/10000 [==============================] - 1s 91us/sample - loss: 0.0479 - acc: 0.9883\n",
            "[0.047895279282415854, 0.9883]\n"
          ],
          "name": "stdout"
        }
      ]
    },
    {
      "cell_type": "code",
      "metadata": {
        "id": "_KrcsVrOFf5t",
        "colab_type": "code",
        "colab": {}
      },
      "source": [
        ""
      ],
      "execution_count": 0,
      "outputs": []
    }
  ]
}